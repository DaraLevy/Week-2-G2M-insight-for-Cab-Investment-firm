{
 "cells": [
  {
   "cell_type": "code",
   "execution_count": 2,
   "id": "370421d2-4306-46d1-98d5-417e850f73c3",
   "metadata": {
    "tags": []
   },
   "outputs": [],
   "source": [
    "import pandas as pd\n",
    "import seaborn as sns\n",
    "import numpy as np\n",
    "import datetime as dt\n",
    "import matplotlib.pyplot as plt"
   ]
  },
  {
   "cell_type": "code",
   "execution_count": 3,
   "id": "89876771-21b3-4c60-86b2-a676d1616d1b",
   "metadata": {
    "tags": []
   },
   "outputs": [],
   "source": [
    "#Data Sets"
   ]
  },
  {
   "cell_type": "code",
   "execution_count": 4,
   "id": "b55cfed9-08ab-4f74-acbe-334f7bc6ce22",
   "metadata": {
    "tags": []
   },
   "outputs": [],
   "source": [
    "cab_data = pd.read_csv('DataSets/Cab_Data.csv')\n",
    "city_data = pd.read_csv('DataSets/City.csv')\n",
    "customer_data = pd.read_csv('DataSets/Customer_ID.csv')\n",
    "transaction_data = pd.read_csv('DataSets/Transaction_ID.csv')"
   ]
  },
  {
   "cell_type": "code",
   "execution_count": 5,
   "id": "9530aff2-ba3d-4d79-9455-fbe4fa8dd9d0",
   "metadata": {
    "tags": []
   },
   "outputs": [],
   "source": [
    "#Cab Data Analysis"
   ]
  },
  {
   "cell_type": "code",
   "execution_count": 6,
   "id": "01227892-8672-4779-a7aa-9d9e37a7374e",
   "metadata": {
    "tags": []
   },
   "outputs": [
    {
     "data": {
      "text/html": [
       "<div>\n",
       "<style scoped>\n",
       "    .dataframe tbody tr th:only-of-type {\n",
       "        vertical-align: middle;\n",
       "    }\n",
       "\n",
       "    .dataframe tbody tr th {\n",
       "        vertical-align: top;\n",
       "    }\n",
       "\n",
       "    .dataframe thead th {\n",
       "        text-align: right;\n",
       "    }\n",
       "</style>\n",
       "<table border=\"1\" class=\"dataframe\">\n",
       "  <thead>\n",
       "    <tr style=\"text-align: right;\">\n",
       "      <th></th>\n",
       "      <th>Transaction ID</th>\n",
       "      <th>Date of Travel</th>\n",
       "      <th>Company</th>\n",
       "      <th>City</th>\n",
       "      <th>KM Travelled</th>\n",
       "      <th>Price Charged</th>\n",
       "      <th>Cost of Trip</th>\n",
       "    </tr>\n",
       "  </thead>\n",
       "  <tbody>\n",
       "    <tr>\n",
       "      <th>0</th>\n",
       "      <td>10000011</td>\n",
       "      <td>42377</td>\n",
       "      <td>Pink Cab</td>\n",
       "      <td>ATLANTA GA</td>\n",
       "      <td>30.45</td>\n",
       "      <td>370.95</td>\n",
       "      <td>313.635</td>\n",
       "    </tr>\n",
       "    <tr>\n",
       "      <th>1</th>\n",
       "      <td>10000012</td>\n",
       "      <td>42375</td>\n",
       "      <td>Pink Cab</td>\n",
       "      <td>ATLANTA GA</td>\n",
       "      <td>28.62</td>\n",
       "      <td>358.52</td>\n",
       "      <td>334.854</td>\n",
       "    </tr>\n",
       "    <tr>\n",
       "      <th>2</th>\n",
       "      <td>10000013</td>\n",
       "      <td>42371</td>\n",
       "      <td>Pink Cab</td>\n",
       "      <td>ATLANTA GA</td>\n",
       "      <td>9.04</td>\n",
       "      <td>125.20</td>\n",
       "      <td>97.632</td>\n",
       "    </tr>\n",
       "    <tr>\n",
       "      <th>3</th>\n",
       "      <td>10000014</td>\n",
       "      <td>42376</td>\n",
       "      <td>Pink Cab</td>\n",
       "      <td>ATLANTA GA</td>\n",
       "      <td>33.17</td>\n",
       "      <td>377.40</td>\n",
       "      <td>351.602</td>\n",
       "    </tr>\n",
       "    <tr>\n",
       "      <th>4</th>\n",
       "      <td>10000015</td>\n",
       "      <td>42372</td>\n",
       "      <td>Pink Cab</td>\n",
       "      <td>ATLANTA GA</td>\n",
       "      <td>8.73</td>\n",
       "      <td>114.62</td>\n",
       "      <td>97.776</td>\n",
       "    </tr>\n",
       "  </tbody>\n",
       "</table>\n",
       "</div>"
      ],
      "text/plain": [
       "   Transaction ID  Date of Travel   Company        City  KM Travelled  \\\n",
       "0        10000011           42377  Pink Cab  ATLANTA GA         30.45   \n",
       "1        10000012           42375  Pink Cab  ATLANTA GA         28.62   \n",
       "2        10000013           42371  Pink Cab  ATLANTA GA          9.04   \n",
       "3        10000014           42376  Pink Cab  ATLANTA GA         33.17   \n",
       "4        10000015           42372  Pink Cab  ATLANTA GA          8.73   \n",
       "\n",
       "   Price Charged  Cost of Trip  \n",
       "0         370.95       313.635  \n",
       "1         358.52       334.854  \n",
       "2         125.20        97.632  \n",
       "3         377.40       351.602  \n",
       "4         114.62        97.776  "
      ]
     },
     "execution_count": 6,
     "metadata": {},
     "output_type": "execute_result"
    }
   ],
   "source": [
    "cab_data.head()"
   ]
  },
  {
   "cell_type": "code",
   "execution_count": 7,
   "id": "174cb9cb-228b-432a-923c-1e1ff283c211",
   "metadata": {
    "tags": []
   },
   "outputs": [
    {
     "name": "stdout",
     "output_type": "stream",
     "text": [
      "<class 'pandas.core.frame.DataFrame'>\n",
      "RangeIndex: 359392 entries, 0 to 359391\n",
      "Data columns (total 7 columns):\n",
      " #   Column          Non-Null Count   Dtype  \n",
      "---  ------          --------------   -----  \n",
      " 0   Transaction ID  359392 non-null  int64  \n",
      " 1   Date of Travel  359392 non-null  int64  \n",
      " 2   Company         359392 non-null  object \n",
      " 3   City            359392 non-null  object \n",
      " 4   KM Travelled    359392 non-null  float64\n",
      " 5   Price Charged   359392 non-null  float64\n",
      " 6   Cost of Trip    359392 non-null  float64\n",
      "dtypes: float64(3), int64(2), object(2)\n",
      "memory usage: 19.2+ MB\n"
     ]
    }
   ],
   "source": [
    "cab_data.info()"
   ]
  },
  {
   "cell_type": "code",
   "execution_count": 8,
   "id": "dea19127-78ef-4a69-9cbd-da26b32f074a",
   "metadata": {
    "tags": []
   },
   "outputs": [],
   "source": [
    "#City Data"
   ]
  },
  {
   "cell_type": "code",
   "execution_count": 9,
   "id": "d71329e2-4b77-44cd-ad7b-231c85b729e4",
   "metadata": {
    "tags": []
   },
   "outputs": [
    {
     "data": {
      "text/html": [
       "<div>\n",
       "<style scoped>\n",
       "    .dataframe tbody tr th:only-of-type {\n",
       "        vertical-align: middle;\n",
       "    }\n",
       "\n",
       "    .dataframe tbody tr th {\n",
       "        vertical-align: top;\n",
       "    }\n",
       "\n",
       "    .dataframe thead th {\n",
       "        text-align: right;\n",
       "    }\n",
       "</style>\n",
       "<table border=\"1\" class=\"dataframe\">\n",
       "  <thead>\n",
       "    <tr style=\"text-align: right;\">\n",
       "      <th></th>\n",
       "      <th>City</th>\n",
       "      <th>Population</th>\n",
       "      <th>Users</th>\n",
       "    </tr>\n",
       "  </thead>\n",
       "  <tbody>\n",
       "    <tr>\n",
       "      <th>0</th>\n",
       "      <td>NEW YORK NY</td>\n",
       "      <td>8,405,837</td>\n",
       "      <td>302,149</td>\n",
       "    </tr>\n",
       "    <tr>\n",
       "      <th>1</th>\n",
       "      <td>CHICAGO IL</td>\n",
       "      <td>1,955,130</td>\n",
       "      <td>164,468</td>\n",
       "    </tr>\n",
       "    <tr>\n",
       "      <th>2</th>\n",
       "      <td>LOS ANGELES CA</td>\n",
       "      <td>1,595,037</td>\n",
       "      <td>144,132</td>\n",
       "    </tr>\n",
       "    <tr>\n",
       "      <th>3</th>\n",
       "      <td>MIAMI FL</td>\n",
       "      <td>1,339,155</td>\n",
       "      <td>17,675</td>\n",
       "    </tr>\n",
       "    <tr>\n",
       "      <th>4</th>\n",
       "      <td>SILICON VALLEY</td>\n",
       "      <td>1,177,609</td>\n",
       "      <td>27,247</td>\n",
       "    </tr>\n",
       "  </tbody>\n",
       "</table>\n",
       "</div>"
      ],
      "text/plain": [
       "             City   Population      Users\n",
       "0     NEW YORK NY   8,405,837    302,149 \n",
       "1      CHICAGO IL   1,955,130    164,468 \n",
       "2  LOS ANGELES CA   1,595,037    144,132 \n",
       "3        MIAMI FL   1,339,155     17,675 \n",
       "4  SILICON VALLEY   1,177,609     27,247 "
      ]
     },
     "execution_count": 9,
     "metadata": {},
     "output_type": "execute_result"
    }
   ],
   "source": [
    "city_data.head()"
   ]
  },
  {
   "cell_type": "code",
   "execution_count": 10,
   "id": "dbe443d2-cccf-452a-873e-5dfe2b208568",
   "metadata": {
    "tags": []
   },
   "outputs": [
    {
     "name": "stdout",
     "output_type": "stream",
     "text": [
      "<class 'pandas.core.frame.DataFrame'>\n",
      "RangeIndex: 20 entries, 0 to 19\n",
      "Data columns (total 3 columns):\n",
      " #   Column      Non-Null Count  Dtype \n",
      "---  ------      --------------  ----- \n",
      " 0   City        20 non-null     object\n",
      " 1   Population  20 non-null     object\n",
      " 2   Users       20 non-null     object\n",
      "dtypes: object(3)\n",
      "memory usage: 612.0+ bytes\n"
     ]
    }
   ],
   "source": [
    "city_data.info()"
   ]
  },
  {
   "cell_type": "code",
   "execution_count": 11,
   "id": "565a0ea4-ee36-40aa-bc98-8da9e67d63b7",
   "metadata": {
    "tags": []
   },
   "outputs": [],
   "source": [
    "#Customer Data"
   ]
  },
  {
   "cell_type": "code",
   "execution_count": 12,
   "id": "25207897-6292-455e-a277-cd0dbb4fb271",
   "metadata": {
    "tags": []
   },
   "outputs": [
    {
     "data": {
      "text/html": [
       "<div>\n",
       "<style scoped>\n",
       "    .dataframe tbody tr th:only-of-type {\n",
       "        vertical-align: middle;\n",
       "    }\n",
       "\n",
       "    .dataframe tbody tr th {\n",
       "        vertical-align: top;\n",
       "    }\n",
       "\n",
       "    .dataframe thead th {\n",
       "        text-align: right;\n",
       "    }\n",
       "</style>\n",
       "<table border=\"1\" class=\"dataframe\">\n",
       "  <thead>\n",
       "    <tr style=\"text-align: right;\">\n",
       "      <th></th>\n",
       "      <th>Customer ID</th>\n",
       "      <th>Gender</th>\n",
       "      <th>Age</th>\n",
       "      <th>Income (USD/Month)</th>\n",
       "    </tr>\n",
       "  </thead>\n",
       "  <tbody>\n",
       "    <tr>\n",
       "      <th>0</th>\n",
       "      <td>29290</td>\n",
       "      <td>Male</td>\n",
       "      <td>28</td>\n",
       "      <td>10813</td>\n",
       "    </tr>\n",
       "    <tr>\n",
       "      <th>1</th>\n",
       "      <td>27703</td>\n",
       "      <td>Male</td>\n",
       "      <td>27</td>\n",
       "      <td>9237</td>\n",
       "    </tr>\n",
       "    <tr>\n",
       "      <th>2</th>\n",
       "      <td>28712</td>\n",
       "      <td>Male</td>\n",
       "      <td>53</td>\n",
       "      <td>11242</td>\n",
       "    </tr>\n",
       "    <tr>\n",
       "      <th>3</th>\n",
       "      <td>28020</td>\n",
       "      <td>Male</td>\n",
       "      <td>23</td>\n",
       "      <td>23327</td>\n",
       "    </tr>\n",
       "    <tr>\n",
       "      <th>4</th>\n",
       "      <td>27182</td>\n",
       "      <td>Male</td>\n",
       "      <td>33</td>\n",
       "      <td>8536</td>\n",
       "    </tr>\n",
       "  </tbody>\n",
       "</table>\n",
       "</div>"
      ],
      "text/plain": [
       "   Customer ID Gender  Age  Income (USD/Month)\n",
       "0        29290   Male   28               10813\n",
       "1        27703   Male   27                9237\n",
       "2        28712   Male   53               11242\n",
       "3        28020   Male   23               23327\n",
       "4        27182   Male   33                8536"
      ]
     },
     "execution_count": 12,
     "metadata": {},
     "output_type": "execute_result"
    }
   ],
   "source": [
    "customer_data.head()"
   ]
  },
  {
   "cell_type": "code",
   "execution_count": 13,
   "id": "bada6e98-da86-4d4f-a3f5-60b1b4510f59",
   "metadata": {
    "tags": []
   },
   "outputs": [
    {
     "name": "stdout",
     "output_type": "stream",
     "text": [
      "<class 'pandas.core.frame.DataFrame'>\n",
      "RangeIndex: 49171 entries, 0 to 49170\n",
      "Data columns (total 4 columns):\n",
      " #   Column              Non-Null Count  Dtype \n",
      "---  ------              --------------  ----- \n",
      " 0   Customer ID         49171 non-null  int64 \n",
      " 1   Gender              49171 non-null  object\n",
      " 2   Age                 49171 non-null  int64 \n",
      " 3   Income (USD/Month)  49171 non-null  int64 \n",
      "dtypes: int64(3), object(1)\n",
      "memory usage: 1.5+ MB\n"
     ]
    }
   ],
   "source": [
    "customer_data.info()"
   ]
  },
  {
   "cell_type": "code",
   "execution_count": 14,
   "id": "3108683c-092b-4b00-8f27-eea6821f6f9c",
   "metadata": {
    "tags": []
   },
   "outputs": [],
   "source": [
    "#Transaction Data"
   ]
  },
  {
   "cell_type": "code",
   "execution_count": 15,
   "id": "acab439f-3ed7-4df7-b272-5cf25c59651b",
   "metadata": {
    "tags": []
   },
   "outputs": [
    {
     "data": {
      "text/html": [
       "<div>\n",
       "<style scoped>\n",
       "    .dataframe tbody tr th:only-of-type {\n",
       "        vertical-align: middle;\n",
       "    }\n",
       "\n",
       "    .dataframe tbody tr th {\n",
       "        vertical-align: top;\n",
       "    }\n",
       "\n",
       "    .dataframe thead th {\n",
       "        text-align: right;\n",
       "    }\n",
       "</style>\n",
       "<table border=\"1\" class=\"dataframe\">\n",
       "  <thead>\n",
       "    <tr style=\"text-align: right;\">\n",
       "      <th></th>\n",
       "      <th>Transaction ID</th>\n",
       "      <th>Customer ID</th>\n",
       "      <th>Payment_Mode</th>\n",
       "    </tr>\n",
       "  </thead>\n",
       "  <tbody>\n",
       "    <tr>\n",
       "      <th>0</th>\n",
       "      <td>10000011</td>\n",
       "      <td>29290</td>\n",
       "      <td>Card</td>\n",
       "    </tr>\n",
       "    <tr>\n",
       "      <th>1</th>\n",
       "      <td>10000012</td>\n",
       "      <td>27703</td>\n",
       "      <td>Card</td>\n",
       "    </tr>\n",
       "    <tr>\n",
       "      <th>2</th>\n",
       "      <td>10000013</td>\n",
       "      <td>28712</td>\n",
       "      <td>Cash</td>\n",
       "    </tr>\n",
       "    <tr>\n",
       "      <th>3</th>\n",
       "      <td>10000014</td>\n",
       "      <td>28020</td>\n",
       "      <td>Cash</td>\n",
       "    </tr>\n",
       "    <tr>\n",
       "      <th>4</th>\n",
       "      <td>10000015</td>\n",
       "      <td>27182</td>\n",
       "      <td>Card</td>\n",
       "    </tr>\n",
       "  </tbody>\n",
       "</table>\n",
       "</div>"
      ],
      "text/plain": [
       "   Transaction ID  Customer ID Payment_Mode\n",
       "0        10000011        29290         Card\n",
       "1        10000012        27703         Card\n",
       "2        10000013        28712         Cash\n",
       "3        10000014        28020         Cash\n",
       "4        10000015        27182         Card"
      ]
     },
     "execution_count": 15,
     "metadata": {},
     "output_type": "execute_result"
    }
   ],
   "source": [
    "transaction_data.head()"
   ]
  },
  {
   "cell_type": "code",
   "execution_count": 16,
   "id": "31bc9e6b-2e95-4b43-ad64-aeb3c557eab0",
   "metadata": {
    "tags": []
   },
   "outputs": [
    {
     "name": "stdout",
     "output_type": "stream",
     "text": [
      "<class 'pandas.core.frame.DataFrame'>\n",
      "RangeIndex: 440098 entries, 0 to 440097\n",
      "Data columns (total 3 columns):\n",
      " #   Column          Non-Null Count   Dtype \n",
      "---  ------          --------------   ----- \n",
      " 0   Transaction ID  440098 non-null  int64 \n",
      " 1   Customer ID     440098 non-null  int64 \n",
      " 2   Payment_Mode    440098 non-null  object\n",
      "dtypes: int64(2), object(1)\n",
      "memory usage: 10.1+ MB\n"
     ]
    }
   ],
   "source": [
    "transaction_data.info()"
   ]
  },
  {
   "cell_type": "code",
   "execution_count": 17,
   "id": "046c124c-4ecb-4e7c-af7d-53767f898b6f",
   "metadata": {},
   "outputs": [],
   "source": [
    "#Cab and Transaction"
   ]
  },
  {
   "cell_type": "code",
   "execution_count": 18,
   "id": "c894fbc4-7f9c-45fe-9cfd-2220adff0524",
   "metadata": {},
   "outputs": [],
   "source": [
    "Cab_Transaction = pd.merge(cab_data, transaction_data)"
   ]
  },
  {
   "cell_type": "code",
   "execution_count": 19,
   "id": "48d16cd9-8648-4ffa-9a2b-7fa78b58c420",
   "metadata": {
    "tags": []
   },
   "outputs": [
    {
     "data": {
      "text/html": [
       "<div>\n",
       "<style scoped>\n",
       "    .dataframe tbody tr th:only-of-type {\n",
       "        vertical-align: middle;\n",
       "    }\n",
       "\n",
       "    .dataframe tbody tr th {\n",
       "        vertical-align: top;\n",
       "    }\n",
       "\n",
       "    .dataframe thead th {\n",
       "        text-align: right;\n",
       "    }\n",
       "</style>\n",
       "<table border=\"1\" class=\"dataframe\">\n",
       "  <thead>\n",
       "    <tr style=\"text-align: right;\">\n",
       "      <th></th>\n",
       "      <th>Transaction ID</th>\n",
       "      <th>Date of Travel</th>\n",
       "      <th>Company</th>\n",
       "      <th>City</th>\n",
       "      <th>KM Travelled</th>\n",
       "      <th>Price Charged</th>\n",
       "      <th>Cost of Trip</th>\n",
       "      <th>Customer ID</th>\n",
       "      <th>Payment_Mode</th>\n",
       "    </tr>\n",
       "  </thead>\n",
       "  <tbody>\n",
       "    <tr>\n",
       "      <th>0</th>\n",
       "      <td>10000011</td>\n",
       "      <td>42377</td>\n",
       "      <td>Pink Cab</td>\n",
       "      <td>ATLANTA GA</td>\n",
       "      <td>30.45</td>\n",
       "      <td>370.95</td>\n",
       "      <td>313.635</td>\n",
       "      <td>29290</td>\n",
       "      <td>Card</td>\n",
       "    </tr>\n",
       "    <tr>\n",
       "      <th>1</th>\n",
       "      <td>10000012</td>\n",
       "      <td>42375</td>\n",
       "      <td>Pink Cab</td>\n",
       "      <td>ATLANTA GA</td>\n",
       "      <td>28.62</td>\n",
       "      <td>358.52</td>\n",
       "      <td>334.854</td>\n",
       "      <td>27703</td>\n",
       "      <td>Card</td>\n",
       "    </tr>\n",
       "    <tr>\n",
       "      <th>2</th>\n",
       "      <td>10000013</td>\n",
       "      <td>42371</td>\n",
       "      <td>Pink Cab</td>\n",
       "      <td>ATLANTA GA</td>\n",
       "      <td>9.04</td>\n",
       "      <td>125.20</td>\n",
       "      <td>97.632</td>\n",
       "      <td>28712</td>\n",
       "      <td>Cash</td>\n",
       "    </tr>\n",
       "    <tr>\n",
       "      <th>3</th>\n",
       "      <td>10000014</td>\n",
       "      <td>42376</td>\n",
       "      <td>Pink Cab</td>\n",
       "      <td>ATLANTA GA</td>\n",
       "      <td>33.17</td>\n",
       "      <td>377.40</td>\n",
       "      <td>351.602</td>\n",
       "      <td>28020</td>\n",
       "      <td>Cash</td>\n",
       "    </tr>\n",
       "    <tr>\n",
       "      <th>4</th>\n",
       "      <td>10000015</td>\n",
       "      <td>42372</td>\n",
       "      <td>Pink Cab</td>\n",
       "      <td>ATLANTA GA</td>\n",
       "      <td>8.73</td>\n",
       "      <td>114.62</td>\n",
       "      <td>97.776</td>\n",
       "      <td>27182</td>\n",
       "      <td>Card</td>\n",
       "    </tr>\n",
       "  </tbody>\n",
       "</table>\n",
       "</div>"
      ],
      "text/plain": [
       "   Transaction ID  Date of Travel   Company        City  KM Travelled  \\\n",
       "0        10000011           42377  Pink Cab  ATLANTA GA         30.45   \n",
       "1        10000012           42375  Pink Cab  ATLANTA GA         28.62   \n",
       "2        10000013           42371  Pink Cab  ATLANTA GA          9.04   \n",
       "3        10000014           42376  Pink Cab  ATLANTA GA         33.17   \n",
       "4        10000015           42372  Pink Cab  ATLANTA GA          8.73   \n",
       "\n",
       "   Price Charged  Cost of Trip  Customer ID Payment_Mode  \n",
       "0         370.95       313.635        29290         Card  \n",
       "1         358.52       334.854        27703         Card  \n",
       "2         125.20        97.632        28712         Cash  \n",
       "3         377.40       351.602        28020         Cash  \n",
       "4         114.62        97.776        27182         Card  "
      ]
     },
     "execution_count": 19,
     "metadata": {},
     "output_type": "execute_result"
    }
   ],
   "source": [
    "Cab_Transaction.head()"
   ]
  },
  {
   "cell_type": "code",
   "execution_count": 20,
   "id": "b58555be-3c7a-46c1-bcf5-915f58db7c3e",
   "metadata": {},
   "outputs": [],
   "source": [
    "MergedSets = pd.merge(Cab_Transaction, customer_data)"
   ]
  },
  {
   "cell_type": "code",
   "execution_count": 21,
   "id": "41e8ec43-1e83-4f88-a683-795b59a02204",
   "metadata": {},
   "outputs": [],
   "source": [
    "#Fix Date"
   ]
  },
  {
   "cell_type": "code",
   "execution_count": 22,
   "id": "4a1fece3-17e9-4e58-9820-197c80a193f3",
   "metadata": {
    "tags": []
   },
   "outputs": [],
   "source": [
    "a = MergedSets['Date of Travel'].to_list()\n",
    "base_date = pd.Timestamp('1899-12-29')\n",
    "dates = [base_date + pd.DateOffset(date_offset) for date_offset in a]\n",
    "MergedSets['Date of Travel'] = pd.to_datetime(dates, format='%y/%m/%d')\n"
   ]
  },
  {
   "cell_type": "code",
   "execution_count": 23,
   "id": "37bcfbdc-d2c9-4d98-aab6-f086460bdb4e",
   "metadata": {
    "tags": []
   },
   "outputs": [
    {
     "data": {
      "text/html": [
       "<div>\n",
       "<style scoped>\n",
       "    .dataframe tbody tr th:only-of-type {\n",
       "        vertical-align: middle;\n",
       "    }\n",
       "\n",
       "    .dataframe tbody tr th {\n",
       "        vertical-align: top;\n",
       "    }\n",
       "\n",
       "    .dataframe thead th {\n",
       "        text-align: right;\n",
       "    }\n",
       "</style>\n",
       "<table border=\"1\" class=\"dataframe\">\n",
       "  <thead>\n",
       "    <tr style=\"text-align: right;\">\n",
       "      <th></th>\n",
       "      <th>Transaction ID</th>\n",
       "      <th>Date of Travel</th>\n",
       "      <th>Company</th>\n",
       "      <th>City</th>\n",
       "      <th>KM Travelled</th>\n",
       "      <th>Price Charged</th>\n",
       "      <th>Cost of Trip</th>\n",
       "      <th>Customer ID</th>\n",
       "      <th>Payment_Mode</th>\n",
       "      <th>Gender</th>\n",
       "      <th>Age</th>\n",
       "      <th>Income (USD/Month)</th>\n",
       "    </tr>\n",
       "  </thead>\n",
       "  <tbody>\n",
       "    <tr>\n",
       "      <th>0</th>\n",
       "      <td>10000011</td>\n",
       "      <td>2016-01-07</td>\n",
       "      <td>Pink Cab</td>\n",
       "      <td>ATLANTA GA</td>\n",
       "      <td>30.45</td>\n",
       "      <td>370.95</td>\n",
       "      <td>313.6350</td>\n",
       "      <td>29290</td>\n",
       "      <td>Card</td>\n",
       "      <td>Male</td>\n",
       "      <td>28</td>\n",
       "      <td>10813</td>\n",
       "    </tr>\n",
       "    <tr>\n",
       "      <th>1</th>\n",
       "      <td>10351127</td>\n",
       "      <td>2018-07-20</td>\n",
       "      <td>Yellow Cab</td>\n",
       "      <td>ATLANTA GA</td>\n",
       "      <td>26.19</td>\n",
       "      <td>598.70</td>\n",
       "      <td>317.4228</td>\n",
       "      <td>29290</td>\n",
       "      <td>Cash</td>\n",
       "      <td>Male</td>\n",
       "      <td>28</td>\n",
       "      <td>10813</td>\n",
       "    </tr>\n",
       "    <tr>\n",
       "      <th>2</th>\n",
       "      <td>10412921</td>\n",
       "      <td>2018-11-22</td>\n",
       "      <td>Yellow Cab</td>\n",
       "      <td>ATLANTA GA</td>\n",
       "      <td>42.55</td>\n",
       "      <td>792.05</td>\n",
       "      <td>597.4020</td>\n",
       "      <td>29290</td>\n",
       "      <td>Card</td>\n",
       "      <td>Male</td>\n",
       "      <td>28</td>\n",
       "      <td>10813</td>\n",
       "    </tr>\n",
       "    <tr>\n",
       "      <th>3</th>\n",
       "      <td>10000012</td>\n",
       "      <td>2016-01-05</td>\n",
       "      <td>Pink Cab</td>\n",
       "      <td>ATLANTA GA</td>\n",
       "      <td>28.62</td>\n",
       "      <td>358.52</td>\n",
       "      <td>334.8540</td>\n",
       "      <td>27703</td>\n",
       "      <td>Card</td>\n",
       "      <td>Male</td>\n",
       "      <td>27</td>\n",
       "      <td>9237</td>\n",
       "    </tr>\n",
       "    <tr>\n",
       "      <th>4</th>\n",
       "      <td>10320494</td>\n",
       "      <td>2018-04-20</td>\n",
       "      <td>Yellow Cab</td>\n",
       "      <td>ATLANTA GA</td>\n",
       "      <td>36.38</td>\n",
       "      <td>721.10</td>\n",
       "      <td>467.1192</td>\n",
       "      <td>27703</td>\n",
       "      <td>Card</td>\n",
       "      <td>Male</td>\n",
       "      <td>27</td>\n",
       "      <td>9237</td>\n",
       "    </tr>\n",
       "  </tbody>\n",
       "</table>\n",
       "</div>"
      ],
      "text/plain": [
       "   Transaction ID Date of Travel     Company        City  KM Travelled  \\\n",
       "0        10000011     2016-01-07    Pink Cab  ATLANTA GA         30.45   \n",
       "1        10351127     2018-07-20  Yellow Cab  ATLANTA GA         26.19   \n",
       "2        10412921     2018-11-22  Yellow Cab  ATLANTA GA         42.55   \n",
       "3        10000012     2016-01-05    Pink Cab  ATLANTA GA         28.62   \n",
       "4        10320494     2018-04-20  Yellow Cab  ATLANTA GA         36.38   \n",
       "\n",
       "   Price Charged  Cost of Trip  Customer ID Payment_Mode Gender  Age  \\\n",
       "0         370.95      313.6350        29290         Card   Male   28   \n",
       "1         598.70      317.4228        29290         Cash   Male   28   \n",
       "2         792.05      597.4020        29290         Card   Male   28   \n",
       "3         358.52      334.8540        27703         Card   Male   27   \n",
       "4         721.10      467.1192        27703         Card   Male   27   \n",
       "\n",
       "   Income (USD/Month)  \n",
       "0               10813  \n",
       "1               10813  \n",
       "2               10813  \n",
       "3                9237  \n",
       "4                9237  "
      ]
     },
     "execution_count": 23,
     "metadata": {},
     "output_type": "execute_result"
    }
   ],
   "source": [
    "MergedSets.head()"
   ]
  },
  {
   "cell_type": "code",
   "execution_count": 24,
   "id": "aeffd4ad-1946-42ce-a5f0-c370d65b2d1a",
   "metadata": {
    "tags": []
   },
   "outputs": [],
   "source": [
    "MergedSets['Profit'] = MergedSets['Price Charged'] - MergedSets['Cost of Trip']\n",
    "\n",
    "PinkCab = MergedSets[MergedSets['Company']=='Pink Cab']\n",
    "YellowCab = MergedSets[MergedSets['Company']=='Yellow Cab']"
   ]
  },
  {
   "cell_type": "code",
   "execution_count": 25,
   "id": "29f11f89-de78-486a-9c72-ce5d9dcb3172",
   "metadata": {
    "tags": []
   },
   "outputs": [
    {
     "data": {
      "text/html": [
       "<div>\n",
       "<style scoped>\n",
       "    .dataframe tbody tr th:only-of-type {\n",
       "        vertical-align: middle;\n",
       "    }\n",
       "\n",
       "    .dataframe tbody tr th {\n",
       "        vertical-align: top;\n",
       "    }\n",
       "\n",
       "    .dataframe thead th {\n",
       "        text-align: right;\n",
       "    }\n",
       "</style>\n",
       "<table border=\"1\" class=\"dataframe\">\n",
       "  <thead>\n",
       "    <tr style=\"text-align: right;\">\n",
       "      <th></th>\n",
       "      <th>Transaction ID</th>\n",
       "      <th>Date of Travel</th>\n",
       "      <th>KM Travelled</th>\n",
       "      <th>Price Charged</th>\n",
       "      <th>Cost of Trip</th>\n",
       "      <th>Customer ID</th>\n",
       "      <th>Age</th>\n",
       "      <th>Income (USD/Month)</th>\n",
       "      <th>Profit</th>\n",
       "    </tr>\n",
       "  </thead>\n",
       "  <tbody>\n",
       "    <tr>\n",
       "      <th>count</th>\n",
       "      <td>3.593920e+05</td>\n",
       "      <td>359392</td>\n",
       "      <td>359392.000000</td>\n",
       "      <td>359392.000000</td>\n",
       "      <td>359392.000000</td>\n",
       "      <td>359392.000000</td>\n",
       "      <td>359392.000000</td>\n",
       "      <td>359392.000000</td>\n",
       "      <td>359392.000000</td>\n",
       "    </tr>\n",
       "    <tr>\n",
       "      <th>mean</th>\n",
       "      <td>1.022076e+07</td>\n",
       "      <td>2017-08-16 01:37:55.042293504</td>\n",
       "      <td>22.567254</td>\n",
       "      <td>423.443311</td>\n",
       "      <td>286.190113</td>\n",
       "      <td>19191.652115</td>\n",
       "      <td>35.336705</td>\n",
       "      <td>15048.822937</td>\n",
       "      <td>137.253198</td>\n",
       "    </tr>\n",
       "    <tr>\n",
       "      <th>min</th>\n",
       "      <td>1.000001e+07</td>\n",
       "      <td>2016-01-01 00:00:00</td>\n",
       "      <td>1.900000</td>\n",
       "      <td>15.600000</td>\n",
       "      <td>19.000000</td>\n",
       "      <td>1.000000</td>\n",
       "      <td>18.000000</td>\n",
       "      <td>2000.000000</td>\n",
       "      <td>-220.060000</td>\n",
       "    </tr>\n",
       "    <tr>\n",
       "      <th>25%</th>\n",
       "      <td>1.011081e+07</td>\n",
       "      <td>2016-11-22 00:00:00</td>\n",
       "      <td>12.000000</td>\n",
       "      <td>206.437500</td>\n",
       "      <td>151.200000</td>\n",
       "      <td>2705.000000</td>\n",
       "      <td>25.000000</td>\n",
       "      <td>8424.000000</td>\n",
       "      <td>28.012000</td>\n",
       "    </tr>\n",
       "    <tr>\n",
       "      <th>50%</th>\n",
       "      <td>1.022104e+07</td>\n",
       "      <td>2017-09-09 00:00:00</td>\n",
       "      <td>22.440000</td>\n",
       "      <td>386.360000</td>\n",
       "      <td>282.480000</td>\n",
       "      <td>7459.000000</td>\n",
       "      <td>33.000000</td>\n",
       "      <td>14685.000000</td>\n",
       "      <td>81.962000</td>\n",
       "    </tr>\n",
       "    <tr>\n",
       "      <th>75%</th>\n",
       "      <td>1.033094e+07</td>\n",
       "      <td>2018-05-11 00:00:00</td>\n",
       "      <td>32.960000</td>\n",
       "      <td>583.660000</td>\n",
       "      <td>413.683200</td>\n",
       "      <td>36078.000000</td>\n",
       "      <td>42.000000</td>\n",
       "      <td>21035.000000</td>\n",
       "      <td>190.030000</td>\n",
       "    </tr>\n",
       "    <tr>\n",
       "      <th>max</th>\n",
       "      <td>1.044011e+07</td>\n",
       "      <td>2018-12-30 00:00:00</td>\n",
       "      <td>48.000000</td>\n",
       "      <td>2048.030000</td>\n",
       "      <td>691.200000</td>\n",
       "      <td>60000.000000</td>\n",
       "      <td>65.000000</td>\n",
       "      <td>35000.000000</td>\n",
       "      <td>1463.966000</td>\n",
       "    </tr>\n",
       "    <tr>\n",
       "      <th>std</th>\n",
       "      <td>1.268058e+05</td>\n",
       "      <td>NaN</td>\n",
       "      <td>12.233526</td>\n",
       "      <td>274.378911</td>\n",
       "      <td>157.993661</td>\n",
       "      <td>21012.412463</td>\n",
       "      <td>12.594234</td>\n",
       "      <td>7969.409482</td>\n",
       "      <td>160.311840</td>\n",
       "    </tr>\n",
       "  </tbody>\n",
       "</table>\n",
       "</div>"
      ],
      "text/plain": [
       "       Transaction ID                 Date of Travel   KM Travelled  \\\n",
       "count    3.593920e+05                         359392  359392.000000   \n",
       "mean     1.022076e+07  2017-08-16 01:37:55.042293504      22.567254   \n",
       "min      1.000001e+07            2016-01-01 00:00:00       1.900000   \n",
       "25%      1.011081e+07            2016-11-22 00:00:00      12.000000   \n",
       "50%      1.022104e+07            2017-09-09 00:00:00      22.440000   \n",
       "75%      1.033094e+07            2018-05-11 00:00:00      32.960000   \n",
       "max      1.044011e+07            2018-12-30 00:00:00      48.000000   \n",
       "std      1.268058e+05                            NaN      12.233526   \n",
       "\n",
       "       Price Charged   Cost of Trip    Customer ID            Age  \\\n",
       "count  359392.000000  359392.000000  359392.000000  359392.000000   \n",
       "mean      423.443311     286.190113   19191.652115      35.336705   \n",
       "min        15.600000      19.000000       1.000000      18.000000   \n",
       "25%       206.437500     151.200000    2705.000000      25.000000   \n",
       "50%       386.360000     282.480000    7459.000000      33.000000   \n",
       "75%       583.660000     413.683200   36078.000000      42.000000   \n",
       "max      2048.030000     691.200000   60000.000000      65.000000   \n",
       "std       274.378911     157.993661   21012.412463      12.594234   \n",
       "\n",
       "       Income (USD/Month)         Profit  \n",
       "count       359392.000000  359392.000000  \n",
       "mean         15048.822937     137.253198  \n",
       "min           2000.000000    -220.060000  \n",
       "25%           8424.000000      28.012000  \n",
       "50%          14685.000000      81.962000  \n",
       "75%          21035.000000     190.030000  \n",
       "max          35000.000000    1463.966000  \n",
       "std           7969.409482     160.311840  "
      ]
     },
     "execution_count": 25,
     "metadata": {},
     "output_type": "execute_result"
    }
   ],
   "source": [
    "MergedSets.describe()"
   ]
  },
  {
   "cell_type": "code",
   "execution_count": 26,
   "id": "53efd1af-192b-410f-8a6a-eeb79479e6a5",
   "metadata": {
    "tags": []
   },
   "outputs": [
    {
     "data": {
      "text/html": [
       "<div>\n",
       "<style scoped>\n",
       "    .dataframe tbody tr th:only-of-type {\n",
       "        vertical-align: middle;\n",
       "    }\n",
       "\n",
       "    .dataframe tbody tr th {\n",
       "        vertical-align: top;\n",
       "    }\n",
       "\n",
       "    .dataframe thead th {\n",
       "        text-align: right;\n",
       "    }\n",
       "</style>\n",
       "<table border=\"1\" class=\"dataframe\">\n",
       "  <thead>\n",
       "    <tr style=\"text-align: right;\">\n",
       "      <th></th>\n",
       "      <th>Transaction ID</th>\n",
       "      <th>Date of Travel</th>\n",
       "      <th>KM Travelled</th>\n",
       "      <th>Price Charged</th>\n",
       "      <th>Cost of Trip</th>\n",
       "      <th>Customer ID</th>\n",
       "      <th>Age</th>\n",
       "      <th>Income (USD/Month)</th>\n",
       "      <th>Profit</th>\n",
       "    </tr>\n",
       "  </thead>\n",
       "  <tbody>\n",
       "    <tr>\n",
       "      <th>count</th>\n",
       "      <td>8.471100e+04</td>\n",
       "      <td>84711</td>\n",
       "      <td>84711.000000</td>\n",
       "      <td>84711.000000</td>\n",
       "      <td>84711.000000</td>\n",
       "      <td>84711.000000</td>\n",
       "      <td>84711.000000</td>\n",
       "      <td>84711.000000</td>\n",
       "      <td>84711.000000</td>\n",
       "    </tr>\n",
       "    <tr>\n",
       "      <th>mean</th>\n",
       "      <td>1.022394e+07</td>\n",
       "      <td>2017-08-27 04:24:08.822466816</td>\n",
       "      <td>22.559917</td>\n",
       "      <td>310.800856</td>\n",
       "      <td>248.148682</td>\n",
       "      <td>18422.581577</td>\n",
       "      <td>35.322414</td>\n",
       "      <td>15059.047137</td>\n",
       "      <td>62.652174</td>\n",
       "    </tr>\n",
       "    <tr>\n",
       "      <th>min</th>\n",
       "      <td>1.000001e+07</td>\n",
       "      <td>2016-01-01 00:00:00</td>\n",
       "      <td>1.900000</td>\n",
       "      <td>15.600000</td>\n",
       "      <td>19.000000</td>\n",
       "      <td>1.000000</td>\n",
       "      <td>18.000000</td>\n",
       "      <td>2000.000000</td>\n",
       "      <td>-220.060000</td>\n",
       "    </tr>\n",
       "    <tr>\n",
       "      <th>25%</th>\n",
       "      <td>1.011014e+07</td>\n",
       "      <td>2016-11-25 00:00:00</td>\n",
       "      <td>12.000000</td>\n",
       "      <td>159.970000</td>\n",
       "      <td>131.868000</td>\n",
       "      <td>5317.500000</td>\n",
       "      <td>25.000000</td>\n",
       "      <td>8371.000000</td>\n",
       "      <td>11.206000</td>\n",
       "    </tr>\n",
       "    <tr>\n",
       "      <th>50%</th>\n",
       "      <td>1.022590e+07</td>\n",
       "      <td>2017-09-21 00:00:00</td>\n",
       "      <td>22.440000</td>\n",
       "      <td>298.060000</td>\n",
       "      <td>246.330000</td>\n",
       "      <td>8876.000000</td>\n",
       "      <td>33.000000</td>\n",
       "      <td>14713.000000</td>\n",
       "      <td>41.500000</td>\n",
       "    </tr>\n",
       "    <tr>\n",
       "      <th>75%</th>\n",
       "      <td>1.033642e+07</td>\n",
       "      <td>2018-05-31 00:00:00</td>\n",
       "      <td>32.960000</td>\n",
       "      <td>441.505000</td>\n",
       "      <td>360.180000</td>\n",
       "      <td>27190.000000</td>\n",
       "      <td>42.000000</td>\n",
       "      <td>21055.000000</td>\n",
       "      <td>93.965000</td>\n",
       "    </tr>\n",
       "    <tr>\n",
       "      <th>max</th>\n",
       "      <td>1.043762e+07</td>\n",
       "      <td>2018-12-30 00:00:00</td>\n",
       "      <td>48.000000</td>\n",
       "      <td>1623.480000</td>\n",
       "      <td>576.000000</td>\n",
       "      <td>60000.000000</td>\n",
       "      <td>65.000000</td>\n",
       "      <td>35000.000000</td>\n",
       "      <td>1119.480000</td>\n",
       "    </tr>\n",
       "    <tr>\n",
       "      <th>std</th>\n",
       "      <td>1.261782e+05</td>\n",
       "      <td>NaN</td>\n",
       "      <td>12.231092</td>\n",
       "      <td>181.995661</td>\n",
       "      <td>135.403345</td>\n",
       "      <td>18084.830799</td>\n",
       "      <td>12.644780</td>\n",
       "      <td>7991.077762</td>\n",
       "      <td>77.590378</td>\n",
       "    </tr>\n",
       "  </tbody>\n",
       "</table>\n",
       "</div>"
      ],
      "text/plain": [
       "       Transaction ID                 Date of Travel  KM Travelled  \\\n",
       "count    8.471100e+04                          84711  84711.000000   \n",
       "mean     1.022394e+07  2017-08-27 04:24:08.822466816     22.559917   \n",
       "min      1.000001e+07            2016-01-01 00:00:00      1.900000   \n",
       "25%      1.011014e+07            2016-11-25 00:00:00     12.000000   \n",
       "50%      1.022590e+07            2017-09-21 00:00:00     22.440000   \n",
       "75%      1.033642e+07            2018-05-31 00:00:00     32.960000   \n",
       "max      1.043762e+07            2018-12-30 00:00:00     48.000000   \n",
       "std      1.261782e+05                            NaN     12.231092   \n",
       "\n",
       "       Price Charged  Cost of Trip   Customer ID           Age  \\\n",
       "count   84711.000000  84711.000000  84711.000000  84711.000000   \n",
       "mean      310.800856    248.148682  18422.581577     35.322414   \n",
       "min        15.600000     19.000000      1.000000     18.000000   \n",
       "25%       159.970000    131.868000   5317.500000     25.000000   \n",
       "50%       298.060000    246.330000   8876.000000     33.000000   \n",
       "75%       441.505000    360.180000  27190.000000     42.000000   \n",
       "max      1623.480000    576.000000  60000.000000     65.000000   \n",
       "std       181.995661    135.403345  18084.830799     12.644780   \n",
       "\n",
       "       Income (USD/Month)        Profit  \n",
       "count        84711.000000  84711.000000  \n",
       "mean         15059.047137     62.652174  \n",
       "min           2000.000000   -220.060000  \n",
       "25%           8371.000000     11.206000  \n",
       "50%          14713.000000     41.500000  \n",
       "75%          21055.000000     93.965000  \n",
       "max          35000.000000   1119.480000  \n",
       "std           7991.077762     77.590378  "
      ]
     },
     "execution_count": 26,
     "metadata": {},
     "output_type": "execute_result"
    }
   ],
   "source": [
    "PinkCab.describe()"
   ]
  },
  {
   "cell_type": "code",
   "execution_count": 27,
   "id": "7e982df2-4521-443b-b9e1-1e0b789fbd29",
   "metadata": {
    "tags": []
   },
   "outputs": [
    {
     "data": {
      "text/html": [
       "<div>\n",
       "<style scoped>\n",
       "    .dataframe tbody tr th:only-of-type {\n",
       "        vertical-align: middle;\n",
       "    }\n",
       "\n",
       "    .dataframe tbody tr th {\n",
       "        vertical-align: top;\n",
       "    }\n",
       "\n",
       "    .dataframe thead th {\n",
       "        text-align: right;\n",
       "    }\n",
       "</style>\n",
       "<table border=\"1\" class=\"dataframe\">\n",
       "  <thead>\n",
       "    <tr style=\"text-align: right;\">\n",
       "      <th></th>\n",
       "      <th>Transaction ID</th>\n",
       "      <th>Date of Travel</th>\n",
       "      <th>KM Travelled</th>\n",
       "      <th>Price Charged</th>\n",
       "      <th>Cost of Trip</th>\n",
       "      <th>Customer ID</th>\n",
       "      <th>Age</th>\n",
       "      <th>Income (USD/Month)</th>\n",
       "      <th>Profit</th>\n",
       "    </tr>\n",
       "  </thead>\n",
       "  <tbody>\n",
       "    <tr>\n",
       "      <th>count</th>\n",
       "      <td>2.746810e+05</td>\n",
       "      <td>274681</td>\n",
       "      <td>274681.000000</td>\n",
       "      <td>274681.000000</td>\n",
       "      <td>274681.000000</td>\n",
       "      <td>274681.000000</td>\n",
       "      <td>274681.000000</td>\n",
       "      <td>274681.000000</td>\n",
       "      <td>274681.000000</td>\n",
       "    </tr>\n",
       "    <tr>\n",
       "      <th>mean</th>\n",
       "      <td>1.021978e+07</td>\n",
       "      <td>2017-08-12 15:21:37.937607680</td>\n",
       "      <td>22.569517</td>\n",
       "      <td>458.181990</td>\n",
       "      <td>297.922004</td>\n",
       "      <td>19428.831732</td>\n",
       "      <td>35.341112</td>\n",
       "      <td>15045.669817</td>\n",
       "      <td>160.259986</td>\n",
       "    </tr>\n",
       "    <tr>\n",
       "      <th>min</th>\n",
       "      <td>1.000038e+07</td>\n",
       "      <td>2016-01-01 00:00:00</td>\n",
       "      <td>1.900000</td>\n",
       "      <td>20.730000</td>\n",
       "      <td>22.800000</td>\n",
       "      <td>1.000000</td>\n",
       "      <td>18.000000</td>\n",
       "      <td>2000.000000</td>\n",
       "      <td>-176.930800</td>\n",
       "    </tr>\n",
       "    <tr>\n",
       "      <th>25%</th>\n",
       "      <td>1.011084e+07</td>\n",
       "      <td>2016-11-20 00:00:00</td>\n",
       "      <td>11.990000</td>\n",
       "      <td>226.680000</td>\n",
       "      <td>158.400000</td>\n",
       "      <td>2403.000000</td>\n",
       "      <td>25.000000</td>\n",
       "      <td>8439.000000</td>\n",
       "      <td>37.180000</td>\n",
       "    </tr>\n",
       "    <tr>\n",
       "      <th>50%</th>\n",
       "      <td>1.021987e+07</td>\n",
       "      <td>2017-09-05 00:00:00</td>\n",
       "      <td>22.440000</td>\n",
       "      <td>425.060000</td>\n",
       "      <td>295.596000</td>\n",
       "      <td>6445.000000</td>\n",
       "      <td>33.000000</td>\n",
       "      <td>14676.000000</td>\n",
       "      <td>102.000000</td>\n",
       "    </tr>\n",
       "    <tr>\n",
       "      <th>75%</th>\n",
       "      <td>1.032939e+07</td>\n",
       "      <td>2018-05-04 00:00:00</td>\n",
       "      <td>32.960000</td>\n",
       "      <td>633.880000</td>\n",
       "      <td>432.432000</td>\n",
       "      <td>38916.000000</td>\n",
       "      <td>42.000000</td>\n",
       "      <td>21023.000000</td>\n",
       "      <td>228.670400</td>\n",
       "    </tr>\n",
       "    <tr>\n",
       "      <th>max</th>\n",
       "      <td>1.044011e+07</td>\n",
       "      <td>2018-12-30 00:00:00</td>\n",
       "      <td>48.000000</td>\n",
       "      <td>2048.030000</td>\n",
       "      <td>691.200000</td>\n",
       "      <td>60000.000000</td>\n",
       "      <td>65.000000</td>\n",
       "      <td>34996.000000</td>\n",
       "      <td>1463.966000</td>\n",
       "    </tr>\n",
       "    <tr>\n",
       "      <th>std</th>\n",
       "      <td>1.269829e+05</td>\n",
       "      <td>NaN</td>\n",
       "      <td>12.234298</td>\n",
       "      <td>288.386166</td>\n",
       "      <td>162.548986</td>\n",
       "      <td>21830.791423</td>\n",
       "      <td>12.578625</td>\n",
       "      <td>7962.727062</td>\n",
       "      <td>171.823833</td>\n",
       "    </tr>\n",
       "  </tbody>\n",
       "</table>\n",
       "</div>"
      ],
      "text/plain": [
       "       Transaction ID                 Date of Travel   KM Travelled  \\\n",
       "count    2.746810e+05                         274681  274681.000000   \n",
       "mean     1.021978e+07  2017-08-12 15:21:37.937607680      22.569517   \n",
       "min      1.000038e+07            2016-01-01 00:00:00       1.900000   \n",
       "25%      1.011084e+07            2016-11-20 00:00:00      11.990000   \n",
       "50%      1.021987e+07            2017-09-05 00:00:00      22.440000   \n",
       "75%      1.032939e+07            2018-05-04 00:00:00      32.960000   \n",
       "max      1.044011e+07            2018-12-30 00:00:00      48.000000   \n",
       "std      1.269829e+05                            NaN      12.234298   \n",
       "\n",
       "       Price Charged   Cost of Trip    Customer ID            Age  \\\n",
       "count  274681.000000  274681.000000  274681.000000  274681.000000   \n",
       "mean      458.181990     297.922004   19428.831732      35.341112   \n",
       "min        20.730000      22.800000       1.000000      18.000000   \n",
       "25%       226.680000     158.400000    2403.000000      25.000000   \n",
       "50%       425.060000     295.596000    6445.000000      33.000000   \n",
       "75%       633.880000     432.432000   38916.000000      42.000000   \n",
       "max      2048.030000     691.200000   60000.000000      65.000000   \n",
       "std       288.386166     162.548986   21830.791423      12.578625   \n",
       "\n",
       "       Income (USD/Month)         Profit  \n",
       "count       274681.000000  274681.000000  \n",
       "mean         15045.669817     160.259986  \n",
       "min           2000.000000    -176.930800  \n",
       "25%           8439.000000      37.180000  \n",
       "50%          14676.000000     102.000000  \n",
       "75%          21023.000000     228.670400  \n",
       "max          34996.000000    1463.966000  \n",
       "std           7962.727062     171.823833  "
      ]
     },
     "execution_count": 27,
     "metadata": {},
     "output_type": "execute_result"
    }
   ],
   "source": [
    "YellowCab.describe()"
   ]
  },
  {
   "cell_type": "code",
   "execution_count": 28,
   "id": "1a344417-a5bc-45dd-a91b-12ee7d2460be",
   "metadata": {},
   "outputs": [],
   "source": [
    "PinkNum = len(MergedSets[MergedSets[\"Company\"]==\"Pink Cab\"])\n",
    "YellowNum = len(MergedSets[MergedSets[\"Company\"]==\"Yellow Cab\"])\n",
    "\n",
    "CardPayment =  len(MergedSets[MergedSets[\"Payment_Mode\"]==\"Card\"])\n",
    "CashPayment =  len(MergedSets[MergedSets[\"Payment_Mode\"]==\"Cash\"])\n",
    "\n",
    "FemaleDist = len(MergedSets[MergedSets[\"Gender\"]==\"Female\"])\n",
    "MaleDist = len(MergedSets[MergedSets[\"Gender\"]==\"Male\"])"
   ]
  },
  {
   "cell_type": "code",
   "execution_count": 29,
   "id": "ac73a73a-3ad2-42c6-80bf-2fc240ec7f3f",
   "metadata": {
    "tags": []
   },
   "outputs": [
    {
     "data": {
      "image/png": "[encoded data removed]",
      "text/plain": [
       "<Figure size 640x480 with 1 Axes>"
      ]
     },
     "metadata": {},
     "output_type": "display_data"
    },
    {
     "data": {
      "image/png": "[encoded data removed]",
      "text/plain": [
       "<Figure size 640x480 with 1 Axes>"
      ]
     },
     "metadata": {},
     "output_type": "display_data"
    },
    {
     "data": {
      "image/png": "[encoded data removed]",
      "text/plain": [
       "<Figure size 640x480 with 1 Axes>"
      ]
     },
     "metadata": {},
     "output_type": "display_data"
    }
   ],
   "source": [
    "CabMarketShare = np.array([PinkNum, YellowNum])\n",
    "mylabels = [\"Pink Cab\", \"Yellow Cab\"]\n",
    "mycolors = [\"magenta\", \"yellow\"]\n",
    "\n",
    "plt.pie(CabMarketShare, labels = mylabels, colors = mycolors, autopct=\"%1.1f%%\")\n",
    "plt.title(\"Cab Distribution\")\n",
    "plt.savefig('CabDist.png')\n",
    "plt.show() \n",
    "\n",
    "PaymentDistribution = np.array([CardPayment, CashPayment])\n",
    "mylabels = [\"Card\" , \"Cash\"]\n",
    "\n",
    "plt.pie(PaymentDistribution, labels = mylabels, autopct=\"%1.1f%%\")\n",
    "plt.title(\"Payment Method\")\n",
    "plt.savefig('PaymentDist.png')\n",
    "plt.show()\n",
    "           \n",
    "\n",
    "GenderDistribution = np.array([FemaleDist, MaleDist])\n",
    "mylabels = [\"Female\" , \"Male\"]\n",
    "          \n",
    "plt.pie(GenderDistribution, labels = mylabels, autopct=\"%1.1f%%\")\n",
    "plt.title(\"Gender Method\")\n",
    "plt.savefig('GenDist.png')\n",
    "plt.show()"
   ]
  },
  {
   "cell_type": "code",
   "execution_count": 30,
   "id": "d108817d-526d-472f-8e46-c32c029e5cae",
   "metadata": {
    "tags": []
   },
   "outputs": [],
   "source": [
    "def convert(list1, list2):\n",
    "    result = []\n",
    "    for x,y in zip(list1, list2):\n",
    "        result.append((x,y))\n",
    "    return result\n",
    "        "
   ]
  },
  {
   "cell_type": "code",
   "execution_count": 67,
   "id": "8aa35a73-a601-4d1a-8de8-b3fb4d3507b3",
   "metadata": {
    "tags": []
   },
   "outputs": [
    {
     "name": "stdout",
     "output_type": "stream",
     "text": [
      "[('NEW YORK NY', 99885), ('CHICAGO IL', 56625), ('LOS ANGELES CA', 48033), ('WASHINGTON DC', 43737), ('BOSTON MA', 29692), ('SAN DIEGO CA', 20488), ('SILICON VALLEY', 8519), ('SEATTLE WA', 7997), ('ATLANTA GA', 7557), ('DALLAS TX', 7017), ('MIAMI FL', 6454), ('AUSTIN TX', 4896), ('ORANGE COUNTY', 3982), ('DENVER CO', 3825), ('NASHVILLE TN', 3010), ('SACRAMENTO CA', 2367), ('PHOENIX AZ', 2064), ('TUCSON AZ', 1931), ('PITTSBURGH PA', 1313)]\n",
      "[('LOS ANGELES CA', 19865), ('NEW YORK NY', 13967), ('SAN DIEGO CA', 10672), ('CHICAGO IL', 9361), ('BOSTON MA', 5186), ('SILICON VALLEY', 3797), ('WASHINGTON DC', 3692), ('SEATTLE WA', 2732), ('MIAMI FL', 2002), ('AUSTIN TX', 1868), ('NASHVILLE TN', 1841), ('ATLANTA GA', 1762), ('ORANGE COUNTY', 1513), ('DENVER CO', 1394), ('DALLAS TX', 1380), ('SACRAMENTO CA', 1334), ('PHOENIX AZ', 864), ('TUCSON AZ', 799), ('PITTSBURGH PA', 682)]\n"
     ]
    },
    {
     "data": {
      "image/png": "[encoded data removed]",
      "text/plain": [
       "<Figure size 640x480 with 1 Axes>"
      ]
     },
     "metadata": {},
     "output_type": "display_data"
    }
   ],
   "source": [
    "#Frequency of Cities\n",
    "city_array = np.array(MergedSets['City'])\n",
    "\n",
    "unique, frequency = np.unique(city_array, return_counts = True)\n",
    "\n",
    "tup = convert(unique, frequency)\n",
    "tup.sort(key = lambda x: x[1], reverse = True) \n",
    "print(tup)\n",
    "\n",
    "#Looking at top 6 cities, 6 instead of 5 because Boston and San Diego are close in frequencies\n",
    "\n",
    "CitiesFrq = [('New York', 99885), ('Chicago', 56625), ('Los Angeles', 48033), ('Washington DC', 43737), ('Boston', 29692), ('San Diego', 20488)] \n",
    "\n",
    "df = pd.DataFrame(CitiesFrq, columns=['City', 'frequency'])\n",
    "df.plot(kind='bar', x='City',)\n",
    "plt.savefig('CityDist.png')\n"
   ]
  },
  {
   "cell_type": "code",
   "execution_count": 73,
   "id": "ca0e2956-54f3-46ba-aa2a-6e77ba0f5c75",
   "metadata": {
    "tags": []
   },
   "outputs": [
    {
     "name": "stdout",
     "output_type": "stream",
     "text": [
      "[('LOS ANGELES CA', 19865), ('NEW YORK NY', 13967), ('SAN DIEGO CA', 10672), ('CHICAGO IL', 9361), ('BOSTON MA', 5186), ('SILICON VALLEY', 3797), ('WASHINGTON DC', 3692), ('SEATTLE WA', 2732), ('MIAMI FL', 2002), ('AUSTIN TX', 1868), ('NASHVILLE TN', 1841), ('ATLANTA GA', 1762), ('ORANGE COUNTY', 1513), ('DENVER CO', 1394), ('DALLAS TX', 1380), ('SACRAMENTO CA', 1334), ('PHOENIX AZ', 864), ('TUCSON AZ', 799), ('PITTSBURGH PA', 682)]\n"
     ]
    },
    {
     "data": {
      "image/png": "[encoded data removed]",
      "text/plain": [
       "<Figure size 640x480 with 1 Axes>"
      ]
     },
     "metadata": {},
     "output_type": "display_data"
    }
   ],
   "source": [
    "#Frequency between Cabs (Pink)\n",
    "\n",
    "city_array = np.array(PinkCab['City'])\n",
    "\n",
    "unique, frequency = np.unique(city_array, return_counts = True)\n",
    "\n",
    "tup = convert(unique, frequency)\n",
    "tup.sort(key = lambda x: x[1], reverse = True) \n",
    "print(tup)\n",
    "\n",
    "#Looking at top 6 cities,\n",
    "\n",
    "CitiesFrq = [('Los Angeles', 19865), ('New York', 13967), ('San Diego', 10672), ('Chicago', 9361), ('Boston', 5186), ('Silicon Valley', 3797)] \n",
    "\n",
    "df = pd.DataFrame(CitiesFrq, columns=['City', 'frequency'])\n",
    "df.plot(kind='bar', x='City',)\n",
    "plt.savefig('PinkCityDist.png')"
   ]
  },
  {
   "cell_type": "code",
   "execution_count": 77,
   "id": "9128ee1a-4b74-4860-8b65-e50f6b7478b6",
   "metadata": {
    "tags": []
   },
   "outputs": [
    {
     "name": "stdout",
     "output_type": "stream",
     "text": [
      "[('NEW YORK NY', 85918), ('CHICAGO IL', 47264), ('WASHINGTON DC', 40045), ('LOS ANGELES CA', 28168), ('BOSTON MA', 24506), ('SAN DIEGO CA', 9816), ('ATLANTA GA', 5795), ('DALLAS TX', 5637), ('SEATTLE WA', 5265), ('SILICON VALLEY', 4722), ('MIAMI FL', 4452), ('AUSTIN TX', 3028), ('ORANGE COUNTY', 2469), ('DENVER CO', 2431), ('PHOENIX AZ', 1200), ('NASHVILLE TN', 1169), ('TUCSON AZ', 1132), ('SACRAMENTO CA', 1033), ('PITTSBURGH PA', 631)]\n"
     ]
    },
    {
     "data": {
      "image/png": "[encoded data removed]",
      "text/plain": [
       "<Figure size 640x480 with 1 Axes>"
      ]
     },
     "metadata": {},
     "output_type": "display_data"
    }
   ],
   "source": [
    "#Frequency between Cabs (Yellow)\n",
    "\n",
    "city_array = np.array(YellowCab['City'])\n",
    "\n",
    "unique, frequency = np.unique(city_array, return_counts = True)\n",
    "\n",
    "tup = convert(unique, frequency)\n",
    "tup.sort(key = lambda x: x[1], reverse = True) \n",
    "print(tup)\n",
    "\n",
    "#Looking at top 6 cities,\n",
    "\n",
    "CitiesFrq = [('New York', 85918), ('Chicago', 47264), ('Washington', 40045), ('Los Angeles', 28168), ('Boston', 24506), ('San Diego', 9816)] \n",
    "\n",
    "df = pd.DataFrame(CitiesFrq, columns=['City', 'frequency'])\n",
    "df.plot(kind='bar', x='City',)\n",
    "plt.savefig('YellowCityDist.png')"
   ]
  },
  {
   "cell_type": "code",
   "execution_count": 32,
   "id": "d0c51a5e-259f-49c4-b508-27c4ffd4c02a",
   "metadata": {},
   "outputs": [],
   "source": [
    "#Data Between Cabs"
   ]
  },
  {
   "cell_type": "code",
   "execution_count": 33,
   "id": "48923f5d-a619-47b7-9421-bdc3d2218e5e",
   "metadata": {},
   "outputs": [
    {
     "data": {
      "text/plain": [
       "\"\\nAnalysis\\n\\nYellow Cab three times the amount of buisness than Pink Cabs\\nFor both cab companies, most of their clientele are from the most populated major cities in the United States.\\nThis is expected, the Yellow Cab company has most of their buisness in the most populated cities, while the Pink cab operates more in the less populated cities. This could be the cause of the Yellow Cab company having so many more clients.\\n\\nThe average age from both companies is 35 years and the average monthly income is 15,000.\\nThe average income in the US is currently around 5000 per month. The large difference between the average income from people using the Cab service compared to the average in the United States may be due to the cabs operating in major cities which has a higher cost of living and higher salaries on average.\\nAnother reason for the higher average income may be because using a cab compared to any other form of transportation in a City is a luxury. In cities, there are many cheaper alternative forms of transportations that someone with a lower salary would be more inclined to use over a cab ride. The customers studied in these data sets may be more likely to have higher salaries than the average just based on the type of transportation that they frequent.\\n\\nBased on the data, there's also a slight prefrence for using card over cash as a payment method. This makes sense and is in line with recent US trends and consumers paying with card over cash.\\n\\n\""
      ]
     },
     "execution_count": 33,
     "metadata": {},
     "output_type": "execute_result"
    }
   ],
   "source": [
    "'''\n",
    "Analysis\n",
    "\n",
    "Yellow Cab three times the amount of buisness than Pink Cabs\n",
    "For both cab companies, most of their clientele are from the most populated major cities in the United States.\n",
    "This is expected, the Yellow Cab company has most of their buisness in the most populated cities, while the Pink cab operates more in the less populated cities. This could be the cause of the Yellow Cab company having so many more clients.\n",
    "\n",
    "The average age from both companies is 35 years and the average monthly income is 15,000.\n",
    "The average income in the US is currently around 5000 per month. The large difference between the average income from people using the Cab service compared to the average in the United States may be due to the cabs operating in major cities which has a higher cost of living and higher salaries on average.\n",
    "Another reason for the higher average income may be because using a cab compared to any other form of transportation in a City is a luxury. In cities, there are many cheaper alternative forms of transportations that someone with a lower salary would be more inclined to use over a cab ride. The customers studied in these data sets may be more likely to have higher salaries than the average just based on the type of transportation that they frequent.\n",
    "\n",
    "Based on the data, there's also a slight prefrence for using card over cash as a payment method. This makes sense and is in line with recent US trends and consumers paying with card over cash.\n",
    "\n",
    "'''"
   ]
  },
  {
   "cell_type": "code",
   "execution_count": null,
   "id": "0b411205-e1de-4e41-acc8-8c93007335e2",
   "metadata": {},
   "outputs": [],
   "source": []
  }
 ],
 "metadata": {
  "kernelspec": {
   "display_name": "Python 3 (ipykernel)",
   "language": "python",
   "name": "python3"
  },
  "language_info": {
   "codemirror_mode": {
    "name": "ipython",
    "version": 3
   },
   "file_extension": ".py",
   "mimetype": "text/x-python",
   "name": "python",
   "nbconvert_exporter": "python",
   "pygments_lexer": "ipython3",
   "version": "3.11.7"
  }
 },
 "nbformat": 4,
 "nbformat_minor": 5
}
